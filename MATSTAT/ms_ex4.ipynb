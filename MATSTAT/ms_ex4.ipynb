{
 "cells": [
  {
   "cell_type": "markdown",
   "metadata": {},
   "source": [
    "### Cvičení z Matematické Statistiky, Václav Kalous"
   ]
  },
  {
   "cell_type": "code",
   "execution_count": 1,
   "metadata": {},
   "outputs": [],
   "source": [
    "set.seed(4444)"
   ]
  },
  {
   "cell_type": "markdown",
   "metadata": {},
   "source": [
    "Znovu se podívám na cereálie. Nejdříve zopakuji **PCA**, abych ji mohl porovnat s faktorovou analýzou."
   ]
  },
  {
   "cell_type": "code",
   "execution_count": 2,
   "metadata": {},
   "outputs": [],
   "source": [
    "cer = read.csv(\"cereal.csv\", sep = \";\", header = TRUE, row.names = 1)"
   ]
  },
  {
   "cell_type": "code",
   "execution_count": 3,
   "metadata": {},
   "outputs": [],
   "source": [
    "cervals = cer[5:(ncol(cer)-5)][2:nrow(cer),]"
   ]
  },
  {
   "cell_type": "code",
   "execution_count": 4,
   "metadata": {},
   "outputs": [],
   "source": [
    "pca = prcomp(cervals,scale. = TRUE)"
   ]
  },
  {
   "cell_type": "code",
   "execution_count": 5,
   "metadata": {},
   "outputs": [
    {
     "data": {
      "text/plain": [
       "Standard deviations (1, .., p=6):\n",
       "[1] 1.4745971 1.2252646 1.0679038 0.8502067 0.6241540 0.2673050\n",
       "\n",
       "Rotation (n x k) = (6 x 6):\n",
       "              PC1        PC2        PC3         PC4         PC5         PC6\n",
       "fat    -0.2706886  0.4607126 0.22290810  0.79764546 -0.10351895 -0.13352554\n",
       "sodium  0.1682393 -0.1052104 0.85343793 -0.05390822  0.47810253  0.02796228\n",
       "fiber  -0.5637831 -0.4156849 0.08284328 -0.09334768 -0.01039726 -0.70261633\n",
       "carbo   0.4548333 -0.3968204 0.27683914  0.19476001 -0.71298529 -0.11287542\n",
       "sugars -0.1303113  0.6063880 0.31110741 -0.56025490 -0.43122363 -0.13669457\n",
       "potass -0.5972583 -0.2805492 0.20411993 -0.01802286 -0.25747203  0.67549468"
      ]
     },
     "metadata": {},
     "output_type": "display_data"
    }
   ],
   "source": [
    "pca"
   ]
  },
  {
   "cell_type": "code",
   "execution_count": 6,
   "metadata": {},
   "outputs": [
    {
     "data": {
      "text/plain": [
       "Importance of components:\n",
       "                          PC1    PC2    PC3    PC4     PC5     PC6\n",
       "Standard deviation     1.4746 1.2253 1.0679 0.8502 0.62415 0.26730\n",
       "Proportion of Variance 0.3624 0.2502 0.1901 0.1205 0.06493 0.01191\n",
       "Cumulative Proportion  0.3624 0.6126 0.8027 0.9232 0.98809 1.00000"
      ]
     },
     "metadata": {},
     "output_type": "display_data"
    }
   ],
   "source": [
    "summary(pca)"
   ]
  },
  {
   "cell_type": "markdown",
   "metadata": {},
   "source": [
    "Nyní provedeme faktorovou analýzu a porovnáme tyto metody."
   ]
  },
  {
   "cell_type": "code",
   "execution_count": 12,
   "metadata": {},
   "outputs": [],
   "source": [
    "?factanal"
   ]
  },
  {
   "cell_type": "code",
   "execution_count": 7,
   "metadata": {},
   "outputs": [],
   "source": [
    "fa = factanal(cervals,factors = 3)"
   ]
  },
  {
   "cell_type": "code",
   "execution_count": 8,
   "metadata": {},
   "outputs": [
    {
     "data": {
      "text/plain": [
       "\n",
       "Call:\n",
       "factanal(x = cervals, factors = 3)\n",
       "\n",
       "Uniquenesses:\n",
       "   fat sodium  fiber  carbo sugars potass \n",
       " 0.657  0.828  0.005  0.005  0.646  0.073 \n",
       "\n",
       "Loadings:\n",
       "       Factor1 Factor2 Factor3\n",
       "fat                     0.575 \n",
       "sodium          0.414         \n",
       "fiber   0.975  -0.155  -0.144 \n",
       "carbo  -0.227   0.857  -0.456 \n",
       "sugars         -0.122   0.577 \n",
       "potass  0.945           0.183 \n",
       "\n",
       "               Factor1 Factor2 Factor3\n",
       "SS loadings      1.911   0.948   0.926\n",
       "Proportion Var   0.319   0.158   0.154\n",
       "Cumulative Var   0.319   0.477   0.631\n",
       "\n",
       "The degrees of freedom for the model is 0 and the fit was 0.0686 "
      ]
     },
     "metadata": {},
     "output_type": "display_data"
    }
   ],
   "source": [
    "fa"
   ]
  },
  {
   "cell_type": "markdown",
   "metadata": {},
   "source": [
    "Vidíme, že pomocí 3 faktorů pokryjeme 63% rozptylu v datech, kdežto u hl. komponent jsme pomocí 3 komponent vysvětlili 80% rozptylu- v tomto se zdá, že je PCA výhodnější. <br>\n",
    "Proměnná `uniqueness` nám říká, jaké procento rozptylu je vlastní pro každou z proměnných a není tedy zahrnuto v modelu. Na základě údajů můžeme říci, že rozptyl tuku, sodíku a cukrů je vždy v\n",
    "z více než 60% unikátní a není obsáhnut ve faktorovém modelu. Rozptyl ostatních proměnných je naopak v modelu zahrnut prakticky všechen. Všimněme si také, že podíl unikátního rozptylu se zdá býti závislý na tom, zda je vůbec tato proměnná obsažená v jednotlivých faktorech- např. v prvním faktoru není obsažená ani jedna z proměnných s vysokou \"unikátností\". <br>\n",
    "Pokud se podíváme na \"loadings\", vidíme, že na první faktor nejvíce reaguje vláknina a draslík, na druhý pak sacharidy a sodík a na třetí tuk a cukry. V každé rovnici vždy chybí alespoň jedna z proměnných. Všimněme si také, že fit tohoto modelu je velmi nízký. <br>\n",
    "Slabina této metody je podle mě v tomto případě skutečnost, že ve faktorové analýze pracujeme s předpokladem, že rozptyly proměnných závisí na skrytých faktorech- nejsem si jistý zda skutečně existují nějaké skryté faktory, které by ovlivňovaly obsah nutrientů v cereáliích."
   ]
  },
  {
   "cell_type": "code",
   "execution_count": 13,
   "metadata": {},
   "outputs": [
    {
     "ename": "ERROR",
     "evalue": "Error in rotation != \"none\": comparison (2) is possible only for atomic and list types\n",
     "output_type": "error",
     "traceback": [
      "Error in rotation != \"none\": comparison (2) is possible only for atomic and list types\nTraceback:\n",
      "1. factanal(cervals, factors = 3, rotation = varimax)"
     ]
    }
   ],
   "source": [
    "far1 = factanal(cervals,factors = 3, rotation = varimax)"
   ]
  }
 ],
 "metadata": {
  "kernelspec": {
   "display_name": "R",
   "language": "R",
   "name": "ir"
  },
  "language_info": {
   "codemirror_mode": "r",
   "file_extension": ".r",
   "mimetype": "text/x-r-source",
   "name": "R",
   "pygments_lexer": "r",
   "version": "3.6.1"
  }
 },
 "nbformat": 4,
 "nbformat_minor": 2
}
